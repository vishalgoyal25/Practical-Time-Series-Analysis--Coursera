{
 "cells": [
  {
   "cell_type": "markdown",
   "metadata": {},
   "source": [
    "# Codes below are implemented in R in the video lecture"
   ]
  },
  {
   "cell_type": "code",
   "execution_count": 1,
   "metadata": {
    "collapsed": true
   },
   "outputs": [],
   "source": [
    "set.seed(2016)  # There is a typo in the video (set.seed=2016)"
   ]
  },
  {
   "cell_type": "code",
   "execution_count": 2,
   "metadata": {
    "collapsed": true
   },
   "outputs": [],
   "source": [
    "Test_1_scores=round(rnorm(50, 78, 10))"
   ]
  },
  {
   "cell_type": "code",
   "execution_count": 3,
   "metadata": {
    "collapsed": true
   },
   "outputs": [],
   "source": [
    "Test_2_scores=round(rnorm(50, 78, 14))"
   ]
  },
  {
   "cell_type": "code",
   "execution_count": 4,
   "metadata": {
    "collapsed": false
   },
   "outputs": [
    {
     "data": {
      "text/html": [
       "<ol class=list-inline>\n",
       "\t<li>69</li>\n",
       "\t<li>88</li>\n",
       "\t<li>77</li>\n",
       "\t<li>81</li>\n",
       "\t<li>50</li>\n",
       "\t<li>75</li>\n",
       "\t<li>70</li>\n",
       "\t<li>71</li>\n",
       "\t<li>82</li>\n",
       "\t<li>80</li>\n",
       "\t<li>74</li>\n",
       "\t<li>75</li>\n",
       "\t<li>91</li>\n",
       "\t<li>69</li>\n",
       "\t<li>94</li>\n",
       "\t<li>81</li>\n",
       "\t<li>69</li>\n",
       "\t<li>88</li>\n",
       "\t<li>71</li>\n",
       "\t<li>71</li>\n",
       "\t<li>74</li>\n",
       "\t<li>71</li>\n",
       "\t<li>75</li>\n",
       "\t<li>84</li>\n",
       "\t<li>80</li>\n",
       "\t<li>68</li>\n",
       "\t<li>72</li>\n",
       "\t<li>91</li>\n",
       "\t<li>89</li>\n",
       "\t<li>67</li>\n",
       "\t<li>68</li>\n",
       "\t<li>77</li>\n",
       "\t<li>90</li>\n",
       "\t<li>63</li>\n",
       "\t<li>79</li>\n",
       "\t<li>92</li>\n",
       "\t<li>70</li>\n",
       "\t<li>70</li>\n",
       "\t<li>73</li>\n",
       "\t<li>63</li>\n",
       "\t<li>77</li>\n",
       "\t<li>83</li>\n",
       "\t<li>75</li>\n",
       "\t<li>72</li>\n",
       "\t<li>87</li>\n",
       "\t<li>75</li>\n",
       "\t<li>65</li>\n",
       "\t<li>100</li>\n",
       "\t<li>86</li>\n",
       "\t<li>61</li>\n",
       "</ol>\n"
      ],
      "text/latex": [
       "\\begin{enumerate*}\n",
       "\\item 69\n",
       "\\item 88\n",
       "\\item 77\n",
       "\\item 81\n",
       "\\item 50\n",
       "\\item 75\n",
       "\\item 70\n",
       "\\item 71\n",
       "\\item 82\n",
       "\\item 80\n",
       "\\item 74\n",
       "\\item 75\n",
       "\\item 91\n",
       "\\item 69\n",
       "\\item 94\n",
       "\\item 81\n",
       "\\item 69\n",
       "\\item 88\n",
       "\\item 71\n",
       "\\item 71\n",
       "\\item 74\n",
       "\\item 71\n",
       "\\item 75\n",
       "\\item 84\n",
       "\\item 80\n",
       "\\item 68\n",
       "\\item 72\n",
       "\\item 91\n",
       "\\item 89\n",
       "\\item 67\n",
       "\\item 68\n",
       "\\item 77\n",
       "\\item 90\n",
       "\\item 63\n",
       "\\item 79\n",
       "\\item 92\n",
       "\\item 70\n",
       "\\item 70\n",
       "\\item 73\n",
       "\\item 63\n",
       "\\item 77\n",
       "\\item 83\n",
       "\\item 75\n",
       "\\item 72\n",
       "\\item 87\n",
       "\\item 75\n",
       "\\item 65\n",
       "\\item 100\n",
       "\\item 86\n",
       "\\item 61\n",
       "\\end{enumerate*}\n"
      ],
      "text/markdown": [
       "1. 69\n",
       "2. 88\n",
       "3. 77\n",
       "4. 81\n",
       "5. 50\n",
       "6. 75\n",
       "7. 70\n",
       "8. 71\n",
       "9. 82\n",
       "10. 80\n",
       "11. 74\n",
       "12. 75\n",
       "13. 91\n",
       "14. 69\n",
       "15. 94\n",
       "16. 81\n",
       "17. 69\n",
       "18. 88\n",
       "19. 71\n",
       "20. 71\n",
       "21. 74\n",
       "22. 71\n",
       "23. 75\n",
       "24. 84\n",
       "25. 80\n",
       "26. 68\n",
       "27. 72\n",
       "28. 91\n",
       "29. 89\n",
       "30. 67\n",
       "31. 68\n",
       "32. 77\n",
       "33. 90\n",
       "34. 63\n",
       "35. 79\n",
       "36. 92\n",
       "37. 70\n",
       "38. 70\n",
       "39. 73\n",
       "40. 63\n",
       "41. 77\n",
       "42. 83\n",
       "43. 75\n",
       "44. 72\n",
       "45. 87\n",
       "46. 75\n",
       "47. 65\n",
       "48. 100\n",
       "49. 86\n",
       "50. 61\n",
       "\n",
       "\n"
      ],
      "text/plain": [
       " [1]  69  88  77  81  50  75  70  71  82  80  74  75  91  69  94  81  69  88  71\n",
       "[20]  71  74  71  75  84  80  68  72  91  89  67  68  77  90  63  79  92  70  70\n",
       "[39]  73  63  77  83  75  72  87  75  65 100  86  61"
      ]
     },
     "metadata": {},
     "output_type": "display_data"
    }
   ],
   "source": [
    "Test_1_scores # Data won't be the same with the data generated in the video lecture since there was a typo in set.seed. "
   ]
  },
  {
   "cell_type": "code",
   "execution_count": 5,
   "metadata": {
    "collapsed": false
   },
   "outputs": [
    {
     "data": {
      "text/html": [
       "<ol class=list-inline>\n",
       "\t<li>76</li>\n",
       "\t<li>66</li>\n",
       "\t<li>43</li>\n",
       "\t<li>62</li>\n",
       "\t<li>80</li>\n",
       "\t<li>55</li>\n",
       "\t<li>101</li>\n",
       "\t<li>61</li>\n",
       "\t<li>73</li>\n",
       "\t<li>72</li>\n",
       "\t<li>88</li>\n",
       "\t<li>87</li>\n",
       "\t<li>70</li>\n",
       "\t<li>70</li>\n",
       "\t<li>85</li>\n",
       "\t<li>97</li>\n",
       "\t<li>74</li>\n",
       "\t<li>62</li>\n",
       "\t<li>72</li>\n",
       "\t<li>90</li>\n",
       "\t<li>91</li>\n",
       "\t<li>83</li>\n",
       "\t<li>51</li>\n",
       "\t<li>78</li>\n",
       "\t<li>77</li>\n",
       "\t<li>89</li>\n",
       "\t<li>81</li>\n",
       "\t<li>91</li>\n",
       "\t<li>78</li>\n",
       "\t<li>73</li>\n",
       "\t<li>86</li>\n",
       "\t<li>85</li>\n",
       "\t<li>86</li>\n",
       "\t<li>67</li>\n",
       "\t<li>57</li>\n",
       "\t<li>106</li>\n",
       "\t<li>70</li>\n",
       "\t<li>87</li>\n",
       "\t<li>74</li>\n",
       "\t<li>81</li>\n",
       "\t<li>97</li>\n",
       "\t<li>86</li>\n",
       "\t<li>61</li>\n",
       "\t<li>88</li>\n",
       "\t<li>73</li>\n",
       "\t<li>70</li>\n",
       "\t<li>80</li>\n",
       "\t<li>74</li>\n",
       "\t<li>46</li>\n",
       "\t<li>95</li>\n",
       "</ol>\n"
      ],
      "text/latex": [
       "\\begin{enumerate*}\n",
       "\\item 76\n",
       "\\item 66\n",
       "\\item 43\n",
       "\\item 62\n",
       "\\item 80\n",
       "\\item 55\n",
       "\\item 101\n",
       "\\item 61\n",
       "\\item 73\n",
       "\\item 72\n",
       "\\item 88\n",
       "\\item 87\n",
       "\\item 70\n",
       "\\item 70\n",
       "\\item 85\n",
       "\\item 97\n",
       "\\item 74\n",
       "\\item 62\n",
       "\\item 72\n",
       "\\item 90\n",
       "\\item 91\n",
       "\\item 83\n",
       "\\item 51\n",
       "\\item 78\n",
       "\\item 77\n",
       "\\item 89\n",
       "\\item 81\n",
       "\\item 91\n",
       "\\item 78\n",
       "\\item 73\n",
       "\\item 86\n",
       "\\item 85\n",
       "\\item 86\n",
       "\\item 67\n",
       "\\item 57\n",
       "\\item 106\n",
       "\\item 70\n",
       "\\item 87\n",
       "\\item 74\n",
       "\\item 81\n",
       "\\item 97\n",
       "\\item 86\n",
       "\\item 61\n",
       "\\item 88\n",
       "\\item 73\n",
       "\\item 70\n",
       "\\item 80\n",
       "\\item 74\n",
       "\\item 46\n",
       "\\item 95\n",
       "\\end{enumerate*}\n"
      ],
      "text/markdown": [
       "1. 76\n",
       "2. 66\n",
       "3. 43\n",
       "4. 62\n",
       "5. 80\n",
       "6. 55\n",
       "7. 101\n",
       "8. 61\n",
       "9. 73\n",
       "10. 72\n",
       "11. 88\n",
       "12. 87\n",
       "13. 70\n",
       "14. 70\n",
       "15. 85\n",
       "16. 97\n",
       "17. 74\n",
       "18. 62\n",
       "19. 72\n",
       "20. 90\n",
       "21. 91\n",
       "22. 83\n",
       "23. 51\n",
       "24. 78\n",
       "25. 77\n",
       "26. 89\n",
       "27. 81\n",
       "28. 91\n",
       "29. 78\n",
       "30. 73\n",
       "31. 86\n",
       "32. 85\n",
       "33. 86\n",
       "34. 67\n",
       "35. 57\n",
       "36. 106\n",
       "37. 70\n",
       "38. 87\n",
       "39. 74\n",
       "40. 81\n",
       "41. 97\n",
       "42. 86\n",
       "43. 61\n",
       "44. 88\n",
       "45. 73\n",
       "46. 70\n",
       "47. 80\n",
       "48. 74\n",
       "49. 46\n",
       "50. 95\n",
       "\n",
       "\n"
      ],
      "text/plain": [
       " [1]  76  66  43  62  80  55 101  61  73  72  88  87  70  70  85  97  74  62  72\n",
       "[20]  90  91  83  51  78  77  89  81  91  78  73  86  85  86  67  57 106  70  87\n",
       "[39]  74  81  97  86  61  88  73  70  80  74  46  95"
      ]
     },
     "metadata": {},
     "output_type": "display_data"
    }
   ],
   "source": [
    "Test_2_scores # Data won't be the same with the data generated in the video lecture since there was a typo in set.seed. "
   ]
  },
  {
   "cell_type": "code",
   "execution_count": 6,
   "metadata": {
    "collapsed": false
   },
   "outputs": [
    {
     "data": {
      "image/png": "[encoded data removed]",
      "text/plain": [
       "plot without title"
      ]
     },
     "metadata": {},
     "output_type": "display_data"
    }
   ],
   "source": [
    "plot(Test_2_scores~Test_1_scores)"
   ]
  },
  {
   "cell_type": "code",
   "execution_count": 7,
   "metadata": {
    "collapsed": false
   },
   "outputs": [
    {
     "data": {
      "image/png": "[encoded data removed]",
      "text/plain": [
       "Plot with title “Test scores for two exams (50 students)”"
      ]
     },
     "metadata": {},
     "output_type": "display_data"
    }
   ],
   "source": [
    "plot(Test_2_scores~Test_1_scores, main='Test scores for two exams (50 students)', xlab='Test_1_scores', ylab='Test 2 scores')"
   ]
  },
  {
   "cell_type": "code",
   "execution_count": 8,
   "metadata": {
    "collapsed": false
   },
   "outputs": [
    {
     "data": {
      "image/png": "[encoded data removed]",
      "text/plain": [
       "Plot with title “Test scores for two exams (50 students)”"
      ]
     },
     "metadata": {},
     "output_type": "display_data"
    }
   ],
   "source": [
    "plot(Test_2_scores~Test_1_scores, main='Test scores for two exams (50 students)', xlab='Test_1_scores', ylab='Test 2 scores', col='blue')"
   ]
  },
  {
   "cell_type": "code",
   "execution_count": null,
   "metadata": {
    "collapsed": true
   },
   "outputs": [],
   "source": []
  }
 ],
 "metadata": {
  "kernelspec": {
   "display_name": "R",
   "language": "R",
   "name": "ir"
  },
  "language_info": {
   "codemirror_mode": "r",
   "file_extension": ".r",
   "mimetype": "text/x-r-source",
   "name": "R",
   "pygments_lexer": "r",
   "version": "3.3.2"
  }
 },
 "nbformat": 4,
 "nbformat_minor": 2
}
