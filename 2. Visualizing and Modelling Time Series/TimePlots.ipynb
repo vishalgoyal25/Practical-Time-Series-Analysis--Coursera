{
 "cells": [
  {
   "cell_type": "code",
   "execution_count": 1,
   "id": "2317675c",
   "metadata": {
    "vscode": {
     "languageId": "r"
    }
   },
   "outputs": [
    {
     "name": "stderr",
     "output_type": "stream",
     "text": [
      "Loading required package: astsa\n",
      "\n"
     ]
    }
   ],
   "source": [
    "require(astsa)"
   ]
  },
  {
   "cell_type": "code",
   "execution_count": 2,
   "id": "2fd7b5bf",
   "metadata": {
    "vscode": {
     "languageId": "r"
    }
   },
   "outputs": [
    {
     "name": "stdout",
     "output_type": "stream",
     "text": [
      "astsa-package              package:astsa               R Documentation\n",
      "\n",
      "_\bA_\bp_\bp_\bl_\bi_\be_\bd _\bS_\bt_\ba_\bt_\bi_\bs_\bt_\bi_\bc_\ba_\bl _\bT_\bi_\bm_\be _\bS_\be_\br_\bi_\be_\bs _\bA_\bn_\ba_\bl_\by_\bs_\bi_\bs (_\bm_\bo_\br_\be _\bt_\bh_\ba_\bn _\bj_\bu_\bs_\bt _\bd_\ba_\bt_\ba)\n",
      "\n",
      "_\bD_\be_\bs_\bc_\br_\bi_\bp_\bt_\bi_\bo_\bn:\n",
      "\n",
      "     Contains data sets and scripts for analyzing time series in both\n",
      "     the frequency and time domains including state space modeling as\n",
      "     well as supporting the texts Time Series Analysis and Its\n",
      "     Applications: With R Examples (5th ed, 2025) and Time Series: A\n",
      "     Data Analysis Approach Using R, (1st ed, 2019).\n",
      "\n",
      "_\bD_\be_\bt_\ba_\bi_\bl_\bs:\n",
      "\n",
      "       Package:   astsa      \n",
      "       Type:      Package    \n",
      "       Version:   2.2        \n",
      "       Date:      2025-01-15 \n",
      "       License:   GPL (>= 2) \n",
      "       LazyLoad:  yes        \n",
      "       LazyData:  yes        \n",
      "      \n",
      "_\bW_\ba_\br_\bn_\bi_\bn_\bg:\n",
      "\n",
      "     If loaded, the 'dplyr' package corrupts the base scripts 'filter'\n",
      "     and 'lag' among other things. In this case, whenever you analyze\n",
      "     time series data, we suggest you either:\n",
      "\n",
      "     (1) Detach it:\n",
      "     detach(package:dplyr)\n",
      "\n",
      "     (2) If you want to use 'dplyr', fix it:\n",
      "\n",
      "        library(dplyr, exclude = c(\"filter\", \"lag\"))   # load it but remove the culprits \n",
      "        Lag <- dplyr::lag            # and do what the dplyr ... \n",
      "        Filter <- dplyr::filter      # ... maintainer refuses to do\n",
      "     then use 'Lag' and 'Filter' for 'dplyr' scripts\n",
      "     and 'lag' and 'filter' can be use as originally intended\n",
      "\n",
      "     (3) Or just take back the commands:\n",
      "     filter = stats::filter\n",
      "     lag = stats::lag\n",
      "     In this case you can still use\n",
      "     Lag <- dplyr::lag\n",
      "     and\n",
      "     Filter <- dplyr::filter\n",
      "     for 'dpylr'.\n",
      "\n",
      "_\bA_\bu_\bt_\bh_\bo_\br(_\bs):\n",
      "\n",
      "     David Stoffer <stoffer@pitt.edu>\n",
      "\n",
      "_\bR_\be_\bf_\be_\br_\be_\bn_\bc_\be_\bs:\n",
      "\n",
      "     You can find demonstrations of astsa capabilities at FUN WITH\n",
      "     ASTSA.\n",
      "\n",
      "     The most recent version of the package can be found at\n",
      "     <https://github.com/nickpoison/astsa/>.\n",
      "\n",
      "     In addition, the News and ChangeLog files are at\n",
      "     <https://github.com/nickpoison/astsa/blob/master/NEWS.md>.\n",
      "\n",
      "     The webpages for the texts and some help on using R for time\n",
      "     series analysis can be found at <https://nickpoison.github.io/>.\n"
     ]
    }
   ],
   "source": [
    "help(astsa)"
   ]
  },
  {
   "cell_type": "code",
   "execution_count": 3,
   "id": "40e3fcd4",
   "metadata": {
    "vscode": {
     "languageId": "r"
    }
   },
   "outputs": [
    {
     "name": "stdout",
     "output_type": "stream",
     "text": [
      "jj                    package:astsa                    R Documentation\n",
      "\n",
      "_\bJ_\bo_\bh_\bn_\bs_\bo_\bn _\ba_\bn_\bd _\bJ_\bo_\bh_\bn_\bs_\bo_\bn _\bQ_\bu_\ba_\br_\bt_\be_\br_\bl_\by _\bE_\ba_\br_\bn_\bi_\bn_\bg_\bs _\bP_\be_\br _\bS_\bh_\ba_\br_\be\n",
      "\n",
      "_\bD_\be_\bs_\bc_\br_\bi_\bp_\bt_\bi_\bo_\bn:\n",
      "\n",
      "     Johnson and Johnson quarterly earnings per share, 84 quarters (21\n",
      "     years) measured from the first quarter of 1960 to the last quarter\n",
      "     of 1980.\n",
      "\n",
      "_\bF_\bo_\br_\bm_\ba_\bt:\n",
      "\n",
      "     The format is: Time-Series [1:84] from 1960 to 1981: 0.71 0.63\n",
      "     0.85 0.44 0.61 0.69 0.92 0.55 0.72 0.77 ...\n",
      "\n",
      "_\bD_\be_\bt_\ba_\bi_\bl_\bs:\n",
      "\n",
      "     The data were provided (personal communication) by Professor Paul\n",
      "     Griffin, 'https://gsm.ucdavis.edu/profile/paul-griffin', of the\n",
      "     Graduate School of Management, University of California, Davis.\n",
      "     This data set is also included with the R distribution as\n",
      "     'JohnsonJohnson'.\n",
      "\n",
      "_\bR_\be_\bf_\be_\br_\be_\bn_\bc_\be_\bs:\n",
      "\n",
      "     You can find demonstrations of astsa capabilities at FUN WITH\n",
      "     ASTSA.\n",
      "\n",
      "     The most recent version of the package can be found at\n",
      "     <https://github.com/nickpoison/astsa/>.\n",
      "\n",
      "     In addition, the News and ChangeLog files are at\n",
      "     <https://github.com/nickpoison/astsa/blob/master/NEWS.md>.\n",
      "\n",
      "     The webpages for the texts and some help on using R for time\n",
      "     series analysis can be found at <https://nickpoison.github.io/>.\n"
     ]
    }
   ],
   "source": [
    "help(jj)"
   ]
  },
  {
   "cell_type": "code",
   "execution_count": 4,
   "id": "72c34cc5",
   "metadata": {
    "vscode": {
     "languageId": "r"
    }
   },
   "outputs": [
    {
     "data": {
      "image/png": "[encoded data removed]",
      "text/plain": [
       "Plot with title \"Johnson & Johnson Quarterly Earnings per Share\""
      ]
     },
     "metadata": {
      "image/png": {
       "height": 420,
       "width": 420
      }
     },
     "output_type": "display_data"
    }
   ],
   "source": [
    "# Customized base R plot with clear colors\n",
    "\n",
    "par(bg = \"white\")  # Set background to white\n",
    "plot(jj, \n",
    "     type = 'o',\n",
    "     col = \"red\",         # Line + point color\n",
    "     pch = 16,             # Solid circle points\n",
    "     main = \"Johnson & Johnson Quarterly Earnings per Share\",\n",
    "     ylab = \"Earnings\", \n",
    "     xlab = \"Years\",\n",
    "     col.main = \"blue\",   # Title color\n",
    ")"
   ]
  },
  {
   "cell_type": "code",
   "execution_count": 5,
   "id": "c574ba70",
   "metadata": {
    "vscode": {
     "languageId": "r"
    }
   },
   "outputs": [
    {
     "name": "stdout",
     "output_type": "stream",
     "text": [
      "flu                   package:astsa                    R Documentation\n",
      "\n",
      "_\bM_\bo_\bn_\bt_\bh_\bl_\by _\bp_\bn_\be_\bu_\bm_\bo_\bn_\bi_\ba _\ba_\bn_\bd _\bi_\bn_\bf_\bl_\bu_\be_\bn_\bz_\ba _\bd_\be_\ba_\bt_\bh_\bs _\bi_\bn _\bt_\bh_\be _\bU._\bS., _\b1_\b9_\b6_\b8 _\bt_\bo _\b1_\b9_\b7_\b8.\n",
      "\n",
      "_\bD_\be_\bs_\bc_\br_\bi_\bp_\bt_\bi_\bo_\bn:\n",
      "\n",
      "     Monthly pneumonia and influenza deaths per 10,000 people in the\n",
      "     United States for 11 years, 1968 to 1978.\n",
      "\n",
      "_\bU_\bs_\ba_\bg_\be:\n",
      "\n",
      "     data(flu)\n",
      "     \n",
      "_\bF_\bo_\br_\bm_\ba_\bt:\n",
      "\n",
      "     The format is: Time-Series [1:132] from 1968 to 1979: 0.811 0.446\n",
      "     0.342 0.277 0.248 ...\n",
      "\n",
      "_\bR_\be_\bf_\be_\br_\be_\bn_\bc_\be_\bs:\n",
      "\n",
      "     You can find demonstrations of astsa capabilities at FUN WITH\n",
      "     ASTSA.\n",
      "\n",
      "     The most recent version of the package can be found at\n",
      "     <https://github.com/nickpoison/astsa/>.\n",
      "\n",
      "     In addition, the News and ChangeLog files are at\n",
      "     <https://github.com/nickpoison/astsa/blob/master/NEWS.md>.\n",
      "\n",
      "     The webpages for the texts and some help on using R for time\n",
      "     series analysis can be found at <https://nickpoison.github.io/>.\n"
     ]
    }
   ],
   "source": [
    "help(\"flu\")\n",
    "\n",
    "# clean_help('flu')"
   ]
  },
  {
   "cell_type": "code",
   "execution_count": 6,
   "id": "e8f13a63",
   "metadata": {
    "vscode": {
     "languageId": "r"
    }
   },
   "outputs": [
    {
     "data": {
      "image/png": "[encoded data removed]",
      "text/plain": [
       "Plot with title \"Monthly Pneumonia and Influenza Deaths in US\""
      ]
     },
     "metadata": {
      "image/png": {
       "height": 420,
       "width": 420
      }
     },
     "output_type": "display_data"
    }
   ],
   "source": [
    "par(bg = \"white\")\n",
    "plot(flu, col = \"blue\", main = \"Monthly Pneumonia and Influenza Deaths in US\", ylab = \"Number of Deaths per 10,000 People\", xlab = \"Months\")"
   ]
  }
 ],
 "metadata": {
  "kernelspec": {
   "display_name": "R",
   "language": "R",
   "name": "ir"
  },
  "language_info": {
   "codemirror_mode": "r",
   "file_extension": ".r",
   "mimetype": "text/x-r-source",
   "name": "R",
   "pygments_lexer": "r",
   "version": "4.5.1"
  }
 },
 "nbformat": 4,
 "nbformat_minor": 5
}
